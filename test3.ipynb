{
 "cells": [
  {
   "cell_type": "code",
   "execution_count": 1,
   "metadata": {
    "collapsed": false
   },
   "outputs": [
    {
     "name": "stderr",
     "output_type": "stream",
     "text": [
      "/usr/local/lib/python2.7/dist-packages/ipykernel/__main__.py:5: DeprecationWarning: You passed a bytestring as `filenames`. This will not work on Python 3. Use `cp.read_file()` or switch to using Unicode strings across the board.\n"
     ]
    }
   ],
   "source": [
    "import preprocess\n",
    "import configparser\n",
    "\n",
    "config = configparser.ConfigParser()\n",
    "config.read('config.ini')\n",
    "mode = 'local'\n",
    "res = preprocess.prepare_augmented_images(config[mode])"
   ]
  },
  {
   "cell_type": "code",
   "execution_count": 2,
   "metadata": {
    "collapsed": false
   },
   "outputs": [
    {
     "data": {
      "text/plain": [
       "{u'book_covers': {u'5800': (u'data/book_covers/5800_train.txt',\n",
       "   u'data/book_covers/5800_test.txt'),\n",
       "  u'Canon': (u'data/book_covers/Canon_train.txt',\n",
       "   u'data/book_covers/Canon_test.txt'),\n",
       "  u'Droid': (u'data/book_covers/Droid_train.txt',\n",
       "   u'data/book_covers/Droid_test.txt'),\n",
       "  u'iPhone': (u'data/book_covers/iPhone_train.txt',\n",
       "   u'data/book_covers/iPhone_test.txt')},\n",
       " u'book_covers.zip': {u'Canon': (u'data/dvd_covers/Canon_train.txt',\n",
       "   u'data/dvd_covers/Canon_test.txt'),\n",
       "  u'Droid': (u'data/dvd_covers/Droid_train.txt',\n",
       "   u'data/dvd_covers/Droid_test.txt'),\n",
       "  u'E63': (u'data/dvd_covers/E63_train.txt', u'data/dvd_covers/E63_test.txt'),\n",
       "  u'Palm': (u'data/dvd_covers/Palm_train.txt',\n",
       "   u'data/dvd_covers/Palm_test.txt')},\n",
       " u'business_cards': {u'Canon': (u'data/business_cards/Canon_train.txt',\n",
       "   u'data/business_cards/Canon_test.txt'),\n",
       "  u'Droid': (u'data/business_cards/Droid_train.txt',\n",
       "   u'data/business_cards/Droid_test.txt'),\n",
       "  u'E63': (u'data/business_cards/E63_train.txt',\n",
       "   u'data/business_cards/E63_test.txt'),\n",
       "  u'Palm': (u'data/business_cards/Palm_train.txt',\n",
       "   u'data/business_cards/Palm_test.txt')},\n",
       " u'business_cards.zip': {u'Query': (u'data/landmarks/Query_train.txt',\n",
       "   u'data/landmarks/Query_test.txt')},\n",
       " u'cd_covers': {u'Canon': (u'data/cd_covers/Canon_train.txt',\n",
       "   u'data/cd_covers/Canon_test.txt'),\n",
       "  u'Droid': (u'data/cd_covers/Droid_train.txt',\n",
       "   u'data/cd_covers/Droid_test.txt'),\n",
       "  u'E63': (u'data/cd_covers/E63_train.txt', u'data/cd_covers/E63_test.txt'),\n",
       "  u'Palm': (u'data/cd_covers/Palm_train.txt',\n",
       "   u'data/cd_covers/Palm_test.txt')},\n",
       " u'cd_covers.zip': {u'Query': (u'data/landmarks/Query_train.txt',\n",
       "   u'data/landmarks/Query_test.txt')},\n",
       " u'download.sh': {u'5800': (u'data/book_covers/5800_train.txt',\n",
       "   u'data/book_covers/5800_test.txt'),\n",
       "  u'Canon': (u'data/book_covers/Canon_train.txt',\n",
       "   u'data/book_covers/Canon_test.txt'),\n",
       "  u'Droid': (u'data/book_covers/Droid_train.txt',\n",
       "   u'data/book_covers/Droid_test.txt'),\n",
       "  u'iPhone': (u'data/book_covers/iPhone_train.txt',\n",
       "   u'data/book_covers/iPhone_test.txt')},\n",
       " u'dvd_covers': {u'Canon': (u'data/dvd_covers/Canon_train.txt',\n",
       "   u'data/dvd_covers/Canon_test.txt'),\n",
       "  u'Droid': (u'data/dvd_covers/Droid_train.txt',\n",
       "   u'data/dvd_covers/Droid_test.txt'),\n",
       "  u'E63': (u'data/dvd_covers/E63_train.txt', u'data/dvd_covers/E63_test.txt'),\n",
       "  u'Palm': (u'data/dvd_covers/Palm_train.txt',\n",
       "   u'data/dvd_covers/Palm_test.txt')},\n",
       " u'dvd_covers.zip': {u'Canon': (u'data/museum_paintings/Canon_train.txt',\n",
       "   u'data/museum_paintings/Canon_test.txt'),\n",
       "  u'Droid': (u'data/museum_paintings/Droid_train.txt',\n",
       "   u'data/museum_paintings/Droid_test.txt'),\n",
       "  u'E63': (u'data/museum_paintings/E63_train.txt',\n",
       "   u'data/museum_paintings/E63_test.txt'),\n",
       "  u'Palm': (u'data/museum_paintings/Palm_train.txt',\n",
       "   u'data/museum_paintings/Palm_test.txt')},\n",
       " u'landmarks': {u'Query': (u'data/landmarks/Query_train.txt',\n",
       "   u'data/landmarks/Query_test.txt')},\n",
       " u'landmarks.zip': {u'Canon': (u'data/museum_paintings/Canon_train.txt',\n",
       "   u'data/museum_paintings/Canon_test.txt'),\n",
       "  u'Droid': (u'data/museum_paintings/Droid_train.txt',\n",
       "   u'data/museum_paintings/Droid_test.txt'),\n",
       "  u'E63': (u'data/museum_paintings/E63_train.txt',\n",
       "   u'data/museum_paintings/E63_test.txt'),\n",
       "  u'Palm': (u'data/museum_paintings/Palm_train.txt',\n",
       "   u'data/museum_paintings/Palm_test.txt')},\n",
       " u'museum_paintings': {u'Canon': (u'data/museum_paintings/Canon_train.txt',\n",
       "   u'data/museum_paintings/Canon_test.txt'),\n",
       "  u'Droid': (u'data/museum_paintings/Droid_train.txt',\n",
       "   u'data/museum_paintings/Droid_test.txt'),\n",
       "  u'E63': (u'data/museum_paintings/E63_train.txt',\n",
       "   u'data/museum_paintings/E63_test.txt'),\n",
       "  u'Palm': (u'data/museum_paintings/Palm_train.txt',\n",
       "   u'data/museum_paintings/Palm_test.txt')},\n",
       " u'museum_paintings.zip': {u'Query': (u'data/landmarks/Query_train.txt',\n",
       "   u'data/landmarks/Query_test.txt')},\n",
       " u'print': {u'Canon': (u'data/print/Canon_train.txt',\n",
       "   u'data/print/Canon_test.txt'),\n",
       "  u'Droid': (u'data/print/Droid_train.txt', u'data/print/Droid_test.txt'),\n",
       "  u'E63': (u'data/print/E63_train.txt', u'data/print/E63_test.txt'),\n",
       "  u'Palm': (u'data/print/Palm_train.txt', u'data/print/Palm_test.txt')},\n",
       " u'print.zip': {u'Query': (u'data/landmarks/Query_train.txt',\n",
       "   u'data/landmarks/Query_test.txt')}}"
      ]
     },
     "execution_count": 2,
     "metadata": {},
     "output_type": "execute_result"
    }
   ],
   "source": [
    "res"
   ]
  },
  {
   "cell_type": "code",
   "execution_count": null,
   "metadata": {
    "collapsed": true
   },
   "outputs": [],
   "source": []
  }
 ],
 "metadata": {
  "kernelspec": {
   "display_name": "Python 2",
   "language": "python",
   "name": "python2"
  },
  "language_info": {
   "codemirror_mode": {
    "name": "ipython",
    "version": 2
   },
   "file_extension": ".py",
   "mimetype": "text/x-python",
   "name": "python",
   "nbconvert_exporter": "python",
   "pygments_lexer": "ipython2",
   "version": "2.7.12"
  }
 },
 "nbformat": 4,
 "nbformat_minor": 0
}
