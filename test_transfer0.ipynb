{
 "cells": [
  {
   "cell_type": "code",
   "execution_count": 1,
   "metadata": {
    "collapsed": false
   },
   "outputs": [
    {
     "name": "stderr",
     "output_type": "stream",
     "text": [
      "/usr/local/lib/python2.7/dist-packages/ipykernel/__main__.py:9: DeprecationWarning: You passed a bytestring as `filenames`. This will not work on Python 3. Use `cp.read_file()` or switch to using Unicode strings across the board.\n"
     ]
    }
   ],
   "source": [
    "import tflearn\n",
    "from tflearn.data_preprocessing import ImagePreprocessing\n",
    "import os\n",
    "\n",
    "import preprocess\n",
    "import configparser\n",
    "\n",
    "config = configparser.ConfigParser()\n",
    "config.read('config.ini')\n",
    "mode = 'local'\n",
    "res = preprocess.prepare_augmented_images(config[mode])"
   ]
  },
  {
   "cell_type": "code",
   "execution_count": 2,
   "metadata": {
    "collapsed": true
   },
   "outputs": [],
   "source": [
    "def vgg16(input, num_class):\n",
    "\n",
    "    x = tflearn.conv_2d(input, 64, 3, activation='relu', scope='conv1_1')\n",
    "    x = tflearn.conv_2d(x, 64, 3, activation='relu', scope='conv1_2')\n",
    "    x = tflearn.max_pool_2d(x, 2, strides=2, name='maxpool1')\n",
    "\n",
    "    x = tflearn.conv_2d(x, 128, 3, activation='relu', scope='conv2_1')\n",
    "    x = tflearn.conv_2d(x, 128, 3, activation='relu', scope='conv2_2')\n",
    "    x = tflearn.max_pool_2d(x, 2, strides=2, name='maxpool2')\n",
    "\n",
    "    x = tflearn.conv_2d(x, 256, 3, activation='relu', scope='conv3_1')\n",
    "    x = tflearn.conv_2d(x, 256, 3, activation='relu', scope='conv3_2')\n",
    "    x = tflearn.conv_2d(x, 256, 3, activation='relu', scope='conv3_3')\n",
    "    x = tflearn.max_pool_2d(x, 2, strides=2, name='maxpool3')\n",
    "\n",
    "    x = tflearn.conv_2d(x, 512, 3, activation='relu', scope='conv4_1')\n",
    "    x = tflearn.conv_2d(x, 512, 3, activation='relu', scope='conv4_2')\n",
    "    x = tflearn.conv_2d(x, 512, 3, activation='relu', scope='conv4_3')\n",
    "    x = tflearn.max_pool_2d(x, 2, strides=2, name='maxpool4')\n",
    "\n",
    "    x = tflearn.conv_2d(x, 512, 3, activation='relu', scope='conv5_1')\n",
    "    x = tflearn.conv_2d(x, 512, 3, activation='relu', scope='conv5_2')\n",
    "    x = tflearn.conv_2d(x, 512, 3, activation='relu', scope='conv5_3')\n",
    "    x = tflearn.max_pool_2d(x, 2, strides=2, name='maxpool5')\n",
    "\n",
    "    x = tflearn.fully_connected(x, 4096, activation='relu', scope='fc6')\n",
    "    x = tflearn.dropout(x, 0.5, name='dropout1')\n",
    "\n",
    "    x = tflearn.fully_connected(x, 4096, activation='relu', scope='fc7')\n",
    "    x = tflearn.dropout(x, 0.5, name='dropout2')\n",
    "\n",
    "    x = tflearn.fully_connected(x, num_class, activation='softmax', scope='fc8',\n",
    "                                restore=False)\n",
    "\n",
    "    return x\n"
   ]
  },
  {
   "cell_type": "code",
   "execution_count": 3,
   "metadata": {
    "collapsed": false
   },
   "outputs": [
    {
     "data": {
      "text/plain": [
       "u'data/book_covers/5800_train.txt'"
      ]
     },
     "execution_count": 3,
     "metadata": {},
     "output_type": "execute_result"
    }
   ],
   "source": [
    "res['book_covers']['5800'][0]"
   ]
  },
  {
   "cell_type": "code",
   "execution_count": null,
   "metadata": {
    "collapsed": false
   },
   "outputs": [],
   "source": [
    "model_path = \"./\"\n",
    "files_list = res['book_covers']['5800']\n",
    "\n",
    "from tflearn.data_utils import image_preloader\n",
    "\n",
    "X_train, y_train = image_preloader(files_list[0], image_shape=(224, 224), mode='file',\n",
    "                       categorical_labels=True, normalize=False,\n",
    "                       files_extension=['.jpg', '.png'], filter_channel=True)\n",
    "\n",
    "X_test, y_test = image_preloader(files_list[1], image_shape=(300, 500), mode='file',\n",
    "                       categorical_labels=True, normalize=False,\n",
    "                       files_extension=['.jpg', '.png'], filter_channel=True)\n",
    "\n",
    "num_classes = 101 # num of your dataset\n",
    "\n",
    "# VGG preprocessing\n",
    "img_prep = ImagePreprocessing()\n",
    "img_prep.add_featurewise_zero_center(mean=[123.68, 116.779, 103.939],\n",
    "                                     per_channel=True)\n",
    "# VGG Network\n",
    "x = tflearn.input_data(shape=[None, 224, 224, 3], name='input',\n",
    "                       data_preprocessing=img_prep)\n",
    "softmax = vgg16(x, num_classes)\n",
    "regression = tflearn.regression(softmax, optimizer='adam',\n",
    "                                loss='categorical_crossentropy',\n",
    "                                learning_rate=0.001, restore=False)\n",
    "\n",
    "model = tflearn.DNN(regression, checkpoint_path='vgg-finetuning',\n",
    "                    max_checkpoints=3, tensorboard_verbose=2,\n",
    "                    tensorboard_dir=\"./logs\")\n",
    "\n",
    "model_file = os.path.join(model_path, \"vgg16.tflearn\")\n",
    "model.load(model_file, weights_only=True)\n",
    "\n",
    "# Start finetuning\n",
    "model.fit(X_train, y_train, n_epoch=10, validation_set=(X_test, y_test), shuffle=True,\n",
    "          show_metric=True, batch_size=64, snapshot_epoch=False,\n",
    "          snapshot_step=200, run_id='vgg-finetuning')\n",
    "\n",
    "model.save('your-task-model-retrained-by-vgg')"
   ]
  },
  {
   "cell_type": "code",
   "execution_count": null,
   "metadata": {
    "collapsed": true
   },
   "outputs": [],
   "source": []
  }
 ],
 "metadata": {
  "kernelspec": {
   "display_name": "Python 2",
   "language": "python",
   "name": "python2"
  },
  "language_info": {
   "codemirror_mode": {
    "name": "ipython",
    "version": 2
   },
   "file_extension": ".py",
   "mimetype": "text/x-python",
   "name": "python",
   "nbconvert_exporter": "python",
   "pygments_lexer": "ipython2",
   "version": "2.7.12"
  }
 },
 "nbformat": 4,
 "nbformat_minor": 1
}
